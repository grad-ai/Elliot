{
 "cells": [
  {
   "cell_type": "code",
   "execution_count": 1,
   "metadata": {},
   "outputs": [],
   "source": [
    "import torch\n",
    "from transformers import GPT2Tokenizer, GPT2Model, GPT2LMHeadModel\n",
    "\n",
    "import argparse\n",
    "import logging\n",
    "from tqdm import trange\n",
    "\n",
    "import torch\n",
    "import torch.nn as nn\n",
    "import torch.nn.functional as F\n",
    "import numpy as np\n"
   ]
  },
  {
   "cell_type": "code",
   "execution_count": 10,
   "metadata": {},
   "outputs": [
    {
     "name": "stdout",
     "output_type": "stream",
     "text": [
      "Requirement already satisfied: pytorch-pretrained-bert in /home/niranjan/.local/lib/python3.8/site-packages (0.6.2)\n",
      "Requirement already satisfied: numpy in /home/niranjan/.local/lib/python3.8/site-packages (from pytorch-pretrained-bert) (1.22.2)\n",
      "Requirement already satisfied: torch>=0.4.1 in /home/niranjan/.local/lib/python3.8/site-packages (from pytorch-pretrained-bert) (1.7.1+cu110)\n",
      "Requirement already satisfied: boto3 in /home/niranjan/.local/lib/python3.8/site-packages (from pytorch-pretrained-bert) (1.20.47)\n",
      "Requirement already satisfied: regex in /home/niranjan/.local/lib/python3.8/site-packages (from pytorch-pretrained-bert) (2022.1.18)\n",
      "Requirement already satisfied: tqdm in /home/niranjan/.local/lib/python3.8/site-packages (from pytorch-pretrained-bert) (4.43.0)\n",
      "Requirement already satisfied: requests in /home/niranjan/.local/lib/python3.8/site-packages (from pytorch-pretrained-bert) (2.27.1)\n",
      "Requirement already satisfied: typing-extensions in /home/niranjan/.local/lib/python3.8/site-packages (from torch>=0.4.1->pytorch-pretrained-bert) (4.1.1)\n",
      "Requirement already satisfied: s3transfer<0.6.0,>=0.5.0 in /home/niranjan/.local/lib/python3.8/site-packages (from boto3->pytorch-pretrained-bert) (0.5.1)\n",
      "Requirement already satisfied: jmespath<1.0.0,>=0.7.1 in /home/niranjan/.local/lib/python3.8/site-packages (from boto3->pytorch-pretrained-bert) (0.10.0)\n",
      "Requirement already satisfied: botocore<1.24.0,>=1.23.47 in /home/niranjan/.local/lib/python3.8/site-packages (from boto3->pytorch-pretrained-bert) (1.23.54)\n",
      "Requirement already satisfied: certifi>=2017.4.17 in /home/niranjan/.local/lib/python3.8/site-packages (from requests->pytorch-pretrained-bert) (2021.5.30)\n",
      "Requirement already satisfied: urllib3<1.27,>=1.21.1 in /home/niranjan/.local/lib/python3.8/site-packages (from requests->pytorch-pretrained-bert) (1.26.5)\n",
      "Requirement already satisfied: idna<4,>=2.5; python_version >= \"3\" in /home/niranjan/.local/lib/python3.8/site-packages (from requests->pytorch-pretrained-bert) (2.10)\n",
      "Requirement already satisfied: charset-normalizer~=2.0.0; python_version >= \"3\" in /home/niranjan/.local/lib/python3.8/site-packages (from requests->pytorch-pretrained-bert) (2.0.11)\n",
      "Requirement already satisfied: python-dateutil<3.0.0,>=2.1 in /home/niranjan/.local/lib/python3.8/site-packages (from botocore<1.24.0,>=1.23.47->boto3->pytorch-pretrained-bert) (2.8.1)\n",
      "Requirement already satisfied: six>=1.5 in /home/niranjan/.local/lib/python3.8/site-packages (from python-dateutil<3.0.0,>=2.1->botocore<1.24.0,>=1.23.47->boto3->pytorch-pretrained-bert) (1.16.0)\n",
      "Requirement already satisfied: spacy in /home/niranjan/.local/lib/python3.8/site-packages (3.2.4)\n",
      "Requirement already satisfied: ftfy==4.4.3 in /home/niranjan/.local/lib/python3.8/site-packages (4.4.3)\n",
      "Requirement already satisfied: pydantic!=1.8,!=1.8.1,<1.9.0,>=1.7.4 in /home/niranjan/.local/lib/python3.8/site-packages (from spacy) (1.8.2)\n",
      "Requirement already satisfied: packaging>=20.0 in /home/niranjan/.local/lib/python3.8/site-packages (from spacy) (20.9)\n",
      "Requirement already satisfied: click<8.1.0 in /home/niranjan/.local/lib/python3.8/site-packages (from spacy) (7.1.2)\n",
      "Requirement already satisfied: wasabi<1.1.0,>=0.8.1 in /home/niranjan/.local/lib/python3.8/site-packages (from spacy) (0.9.1)\n",
      "Requirement already satisfied: setuptools in /home/niranjan/.local/lib/python3.8/site-packages (from spacy) (59.5.0)\n",
      "Requirement already satisfied: requests<3.0.0,>=2.13.0 in /home/niranjan/.local/lib/python3.8/site-packages (from spacy) (2.27.1)\n",
      "Requirement already satisfied: murmurhash<1.1.0,>=0.28.0 in /home/niranjan/.local/lib/python3.8/site-packages (from spacy) (1.0.6)\n",
      "Requirement already satisfied: spacy-legacy<3.1.0,>=3.0.8 in /home/niranjan/.local/lib/python3.8/site-packages (from spacy) (3.0.9)\n",
      "Requirement already satisfied: blis<0.8.0,>=0.4.0 in /home/niranjan/.local/lib/python3.8/site-packages (from spacy) (0.7.7)\n",
      "Requirement already satisfied: cymem<2.1.0,>=2.0.2 in /home/niranjan/.local/lib/python3.8/site-packages (from spacy) (2.0.6)\n",
      "Requirement already satisfied: thinc<8.1.0,>=8.0.12 in /home/niranjan/.local/lib/python3.8/site-packages (from spacy) (8.0.15)\n",
      "Requirement already satisfied: jinja2 in /home/niranjan/.local/lib/python3.8/site-packages (from spacy) (3.0.3)\n",
      "Requirement already satisfied: preshed<3.1.0,>=3.0.2 in /home/niranjan/.local/lib/python3.8/site-packages (from spacy) (3.0.6)\n",
      "Requirement already satisfied: pathy>=0.3.5 in /home/niranjan/.local/lib/python3.8/site-packages (from spacy) (0.6.1)\n",
      "Requirement already satisfied: srsly<3.0.0,>=2.4.1 in /home/niranjan/.local/lib/python3.8/site-packages (from spacy) (2.4.2)\n",
      "Requirement already satisfied: tqdm<5.0.0,>=4.38.0 in /home/niranjan/.local/lib/python3.8/site-packages (from spacy) (4.43.0)\n",
      "Requirement already satisfied: numpy>=1.15.0 in /home/niranjan/.local/lib/python3.8/site-packages (from spacy) (1.22.2)\n",
      "Requirement already satisfied: langcodes<4.0.0,>=3.2.0 in /home/niranjan/.local/lib/python3.8/site-packages (from spacy) (3.3.0)\n",
      "Requirement already satisfied: catalogue<2.1.0,>=2.0.6 in /home/niranjan/.local/lib/python3.8/site-packages (from spacy) (2.0.7)\n",
      "Requirement already satisfied: spacy-loggers<2.0.0,>=1.0.0 in /home/niranjan/.local/lib/python3.8/site-packages (from spacy) (1.0.2)\n",
      "Requirement already satisfied: typer<0.5.0,>=0.3.0 in /home/niranjan/.local/lib/python3.8/site-packages (from spacy) (0.4.1)\n",
      "Requirement already satisfied: html5lib in /home/niranjan/.local/lib/python3.8/site-packages (from ftfy==4.4.3) (1.1)\n",
      "Requirement already satisfied: wcwidth in /home/niranjan/.local/lib/python3.8/site-packages (from ftfy==4.4.3) (0.2.5)\n",
      "Requirement already satisfied: typing-extensions>=3.7.4.3 in /home/niranjan/.local/lib/python3.8/site-packages (from pydantic!=1.8,!=1.8.1,<1.9.0,>=1.7.4->spacy) (4.1.1)\n",
      "Requirement already satisfied: pyparsing>=2.0.2 in /usr/lib/python3/dist-packages (from packaging>=20.0->spacy) (2.4.6)\n",
      "Requirement already satisfied: idna<4,>=2.5; python_version >= \"3\" in /home/niranjan/.local/lib/python3.8/site-packages (from requests<3.0.0,>=2.13.0->spacy) (2.10)\n",
      "Requirement already satisfied: urllib3<1.27,>=1.21.1 in /home/niranjan/.local/lib/python3.8/site-packages (from requests<3.0.0,>=2.13.0->spacy) (1.26.5)\n",
      "Requirement already satisfied: certifi>=2017.4.17 in /home/niranjan/.local/lib/python3.8/site-packages (from requests<3.0.0,>=2.13.0->spacy) (2021.5.30)\n",
      "Requirement already satisfied: charset-normalizer~=2.0.0; python_version >= \"3\" in /home/niranjan/.local/lib/python3.8/site-packages (from requests<3.0.0,>=2.13.0->spacy) (2.0.11)\n",
      "Requirement already satisfied: MarkupSafe>=2.0 in /home/niranjan/.local/lib/python3.8/site-packages (from jinja2->spacy) (2.0.1)\n",
      "Requirement already satisfied: smart-open<6.0.0,>=5.0.0 in /home/niranjan/.local/lib/python3.8/site-packages (from pathy>=0.3.5->spacy) (5.2.1)\n",
      "Requirement already satisfied: webencodings in /usr/lib/python3/dist-packages (from html5lib->ftfy==4.4.3) (0.5.1)\n",
      "Requirement already satisfied: six>=1.9 in /home/niranjan/.local/lib/python3.8/site-packages (from html5lib->ftfy==4.4.3) (1.16.0)\n",
      "\u001b[38;5;3m⚠ As of spaCy v3.0, shortcuts like 'en' are deprecated. Please use the\n",
      "full pipeline package name 'en_core_web_sm' instead.\u001b[0m\n",
      "Collecting en-core-web-sm==3.2.0\n",
      "/home/niranjan/.local/lib/python3.8/site-packages/cryptography/hazmat/backends/openssl/x509.py:14: CryptographyDeprecationWarning: This version of cryptography contains a temporary pyOpenSSL fallback path. Upgrade pyOpenSSL now.\n",
      "  warnings.warn(\n",
      "  Downloading https://github.com/explosion/spacy-models/releases/download/en_core_web_sm-3.2.0/en_core_web_sm-3.2.0-py3-none-any.whl (13.9 MB)\n",
      "\u001b[K     |████████████████████████████████| 13.9 MB 10.5 MB/s eta 0:00:01\n",
      "\u001b[?25hRequirement already satisfied: spacy<3.3.0,>=3.2.0 in /home/niranjan/.local/lib/python3.8/site-packages (from en-core-web-sm==3.2.0) (3.2.4)\n",
      "Requirement already satisfied: typer<0.5.0,>=0.3.0 in /home/niranjan/.local/lib/python3.8/site-packages (from spacy<3.3.0,>=3.2.0->en-core-web-sm==3.2.0) (0.4.1)\n",
      "Requirement already satisfied: tqdm<5.0.0,>=4.38.0 in /home/niranjan/.local/lib/python3.8/site-packages (from spacy<3.3.0,>=3.2.0->en-core-web-sm==3.2.0) (4.43.0)\n",
      "Requirement already satisfied: packaging>=20.0 in /home/niranjan/.local/lib/python3.8/site-packages (from spacy<3.3.0,>=3.2.0->en-core-web-sm==3.2.0) (20.9)\n",
      "Requirement already satisfied: preshed<3.1.0,>=3.0.2 in /home/niranjan/.local/lib/python3.8/site-packages (from spacy<3.3.0,>=3.2.0->en-core-web-sm==3.2.0) (3.0.6)\n",
      "Requirement already satisfied: spacy-loggers<2.0.0,>=1.0.0 in /home/niranjan/.local/lib/python3.8/site-packages (from spacy<3.3.0,>=3.2.0->en-core-web-sm==3.2.0) (1.0.2)\n",
      "Requirement already satisfied: requests<3.0.0,>=2.13.0 in /home/niranjan/.local/lib/python3.8/site-packages (from spacy<3.3.0,>=3.2.0->en-core-web-sm==3.2.0) (2.27.1)\n",
      "Requirement already satisfied: pydantic!=1.8,!=1.8.1,<1.9.0,>=1.7.4 in /home/niranjan/.local/lib/python3.8/site-packages (from spacy<3.3.0,>=3.2.0->en-core-web-sm==3.2.0) (1.8.2)\n",
      "Requirement already satisfied: pathy>=0.3.5 in /home/niranjan/.local/lib/python3.8/site-packages (from spacy<3.3.0,>=3.2.0->en-core-web-sm==3.2.0) (0.6.1)\n",
      "Requirement already satisfied: srsly<3.0.0,>=2.4.1 in /home/niranjan/.local/lib/python3.8/site-packages (from spacy<3.3.0,>=3.2.0->en-core-web-sm==3.2.0) (2.4.2)\n",
      "Requirement already satisfied: langcodes<4.0.0,>=3.2.0 in /home/niranjan/.local/lib/python3.8/site-packages (from spacy<3.3.0,>=3.2.0->en-core-web-sm==3.2.0) (3.3.0)\n",
      "Requirement already satisfied: jinja2 in /home/niranjan/.local/lib/python3.8/site-packages (from spacy<3.3.0,>=3.2.0->en-core-web-sm==3.2.0) (3.0.3)\n",
      "Requirement already satisfied: click<8.1.0 in /home/niranjan/.local/lib/python3.8/site-packages (from spacy<3.3.0,>=3.2.0->en-core-web-sm==3.2.0) (7.1.2)\n",
      "Requirement already satisfied: numpy>=1.15.0 in /home/niranjan/.local/lib/python3.8/site-packages (from spacy<3.3.0,>=3.2.0->en-core-web-sm==3.2.0) (1.22.2)\n",
      "Requirement already satisfied: thinc<8.1.0,>=8.0.12 in /home/niranjan/.local/lib/python3.8/site-packages (from spacy<3.3.0,>=3.2.0->en-core-web-sm==3.2.0) (8.0.15)\n",
      "Requirement already satisfied: blis<0.8.0,>=0.4.0 in /home/niranjan/.local/lib/python3.8/site-packages (from spacy<3.3.0,>=3.2.0->en-core-web-sm==3.2.0) (0.7.7)\n",
      "Requirement already satisfied: murmurhash<1.1.0,>=0.28.0 in /home/niranjan/.local/lib/python3.8/site-packages (from spacy<3.3.0,>=3.2.0->en-core-web-sm==3.2.0) (1.0.6)\n",
      "Requirement already satisfied: cymem<2.1.0,>=2.0.2 in /home/niranjan/.local/lib/python3.8/site-packages (from spacy<3.3.0,>=3.2.0->en-core-web-sm==3.2.0) (2.0.6)\n",
      "Requirement already satisfied: wasabi<1.1.0,>=0.8.1 in /home/niranjan/.local/lib/python3.8/site-packages (from spacy<3.3.0,>=3.2.0->en-core-web-sm==3.2.0) (0.9.1)\n",
      "Requirement already satisfied: spacy-legacy<3.1.0,>=3.0.8 in /home/niranjan/.local/lib/python3.8/site-packages (from spacy<3.3.0,>=3.2.0->en-core-web-sm==3.2.0) (3.0.9)\n",
      "Requirement already satisfied: catalogue<2.1.0,>=2.0.6 in /home/niranjan/.local/lib/python3.8/site-packages (from spacy<3.3.0,>=3.2.0->en-core-web-sm==3.2.0) (2.0.7)\n",
      "Requirement already satisfied: setuptools in /home/niranjan/.local/lib/python3.8/site-packages (from spacy<3.3.0,>=3.2.0->en-core-web-sm==3.2.0) (59.5.0)\n",
      "Requirement already satisfied: pyparsing>=2.0.2 in /usr/lib/python3/dist-packages (from packaging>=20.0->spacy<3.3.0,>=3.2.0->en-core-web-sm==3.2.0) (2.4.6)\n",
      "Requirement already satisfied: charset-normalizer~=2.0.0; python_version >= \"3\" in /home/niranjan/.local/lib/python3.8/site-packages (from requests<3.0.0,>=2.13.0->spacy<3.3.0,>=3.2.0->en-core-web-sm==3.2.0) (2.0.11)\n",
      "Requirement already satisfied: urllib3<1.27,>=1.21.1 in /home/niranjan/.local/lib/python3.8/site-packages (from requests<3.0.0,>=2.13.0->spacy<3.3.0,>=3.2.0->en-core-web-sm==3.2.0) (1.26.5)\n",
      "Requirement already satisfied: idna<4,>=2.5; python_version >= \"3\" in /home/niranjan/.local/lib/python3.8/site-packages (from requests<3.0.0,>=2.13.0->spacy<3.3.0,>=3.2.0->en-core-web-sm==3.2.0) (2.10)\n",
      "Requirement already satisfied: certifi>=2017.4.17 in /home/niranjan/.local/lib/python3.8/site-packages (from requests<3.0.0,>=2.13.0->spacy<3.3.0,>=3.2.0->en-core-web-sm==3.2.0) (2021.5.30)\n",
      "Requirement already satisfied: typing-extensions>=3.7.4.3 in /home/niranjan/.local/lib/python3.8/site-packages (from pydantic!=1.8,!=1.8.1,<1.9.0,>=1.7.4->spacy<3.3.0,>=3.2.0->en-core-web-sm==3.2.0) (4.1.1)\n",
      "Requirement already satisfied: smart-open<6.0.0,>=5.0.0 in /home/niranjan/.local/lib/python3.8/site-packages (from pathy>=0.3.5->spacy<3.3.0,>=3.2.0->en-core-web-sm==3.2.0) (5.2.1)\n",
      "Requirement already satisfied: MarkupSafe>=2.0 in /home/niranjan/.local/lib/python3.8/site-packages (from jinja2->spacy<3.3.0,>=3.2.0->en-core-web-sm==3.2.0) (2.0.1)\n",
      "Installing collected packages: en-core-web-sm\n",
      "Successfully installed en-core-web-sm-3.2.0\n",
      "\u001b[38;5;2m✔ Download and installation successful\u001b[0m\n",
      "You can now load the package via spacy.load('en_core_web_sm')\n"
     ]
    }
   ],
   "source": [
    "! pip3 install pytorch-pretrained-bert\n",
    "! pip3 install spacy ftfy==4.4.3\n",
    "! python3 -m spacy download en"
   ]
  },
  {
   "cell_type": "code",
   "execution_count": 2,
   "metadata": {},
   "outputs": [],
   "source": [
    "import spur\n",
    "class LinuxEnv:\n",
    "\n",
    "    def __init__(self, host, user, password, port):\n",
    "\n",
    "        self.host = host\n",
    "        self.user = user\n",
    "        self.password = password\n",
    "        self.port = port\n",
    "        self.client = None\n",
    "\n",
    "    def connect(self):\n",
    "        self.client = spur.SshShell(hostname=self.host, username=self.user, password=self.password, port=self.port)\n",
    "\n",
    "\n",
    "    def send(self, command):\n",
    "        try:\n",
    "            result = self.client.run(command.split(\" \"))\n",
    "            return result.output\n",
    "        except:\n",
    "            return \"<ERROR>\"\n",
    "\n"
   ]
  },
  {
   "cell_type": "code",
   "execution_count": 3,
   "metadata": {},
   "outputs": [],
   "source": [
    "tokenizer = GPT2Tokenizer.from_pretrained('gpt2')"
   ]
  },
  {
   "cell_type": "code",
   "execution_count": 27,
   "metadata": {},
   "outputs": [],
   "source": [
    "class GenNet(nn.Module):\n",
    "\n",
    "    def __init__(self):\n",
    "        super(GenNet, self).__init__()\n",
    "\n",
    "        self.llm =  GPT2LMHeadModel.from_pretrained('gpt2')\n",
    "        \n",
    "    def forward(self, x, past = None):\n",
    "\n",
    "        x = self.llm(x, past)\n",
    "\n",
    "        return x"
   ]
  },
  {
   "cell_type": "code",
   "execution_count": 19,
   "metadata": {},
   "outputs": [
    {
     "data": {
      "text/plain": [
       "GenNet(\n",
       "  (llm): GPT2LMHeadModel(\n",
       "    (transformer): GPT2Model(\n",
       "      (wte): Embedding(50257, 768)\n",
       "      (wpe): Embedding(1024, 768)\n",
       "      (h): ModuleList(\n",
       "        (0): Block(\n",
       "          (ln_1): BertLayerNorm()\n",
       "          (attn): Attention(\n",
       "            (c_attn): Conv1D()\n",
       "            (c_proj): Conv1D()\n",
       "          )\n",
       "          (ln_2): BertLayerNorm()\n",
       "          (mlp): MLP(\n",
       "            (c_fc): Conv1D()\n",
       "            (c_proj): Conv1D()\n",
       "          )\n",
       "        )\n",
       "        (1): Block(\n",
       "          (ln_1): BertLayerNorm()\n",
       "          (attn): Attention(\n",
       "            (c_attn): Conv1D()\n",
       "            (c_proj): Conv1D()\n",
       "          )\n",
       "          (ln_2): BertLayerNorm()\n",
       "          (mlp): MLP(\n",
       "            (c_fc): Conv1D()\n",
       "            (c_proj): Conv1D()\n",
       "          )\n",
       "        )\n",
       "        (2): Block(\n",
       "          (ln_1): BertLayerNorm()\n",
       "          (attn): Attention(\n",
       "            (c_attn): Conv1D()\n",
       "            (c_proj): Conv1D()\n",
       "          )\n",
       "          (ln_2): BertLayerNorm()\n",
       "          (mlp): MLP(\n",
       "            (c_fc): Conv1D()\n",
       "            (c_proj): Conv1D()\n",
       "          )\n",
       "        )\n",
       "        (3): Block(\n",
       "          (ln_1): BertLayerNorm()\n",
       "          (attn): Attention(\n",
       "            (c_attn): Conv1D()\n",
       "            (c_proj): Conv1D()\n",
       "          )\n",
       "          (ln_2): BertLayerNorm()\n",
       "          (mlp): MLP(\n",
       "            (c_fc): Conv1D()\n",
       "            (c_proj): Conv1D()\n",
       "          )\n",
       "        )\n",
       "        (4): Block(\n",
       "          (ln_1): BertLayerNorm()\n",
       "          (attn): Attention(\n",
       "            (c_attn): Conv1D()\n",
       "            (c_proj): Conv1D()\n",
       "          )\n",
       "          (ln_2): BertLayerNorm()\n",
       "          (mlp): MLP(\n",
       "            (c_fc): Conv1D()\n",
       "            (c_proj): Conv1D()\n",
       "          )\n",
       "        )\n",
       "        (5): Block(\n",
       "          (ln_1): BertLayerNorm()\n",
       "          (attn): Attention(\n",
       "            (c_attn): Conv1D()\n",
       "            (c_proj): Conv1D()\n",
       "          )\n",
       "          (ln_2): BertLayerNorm()\n",
       "          (mlp): MLP(\n",
       "            (c_fc): Conv1D()\n",
       "            (c_proj): Conv1D()\n",
       "          )\n",
       "        )\n",
       "        (6): Block(\n",
       "          (ln_1): BertLayerNorm()\n",
       "          (attn): Attention(\n",
       "            (c_attn): Conv1D()\n",
       "            (c_proj): Conv1D()\n",
       "          )\n",
       "          (ln_2): BertLayerNorm()\n",
       "          (mlp): MLP(\n",
       "            (c_fc): Conv1D()\n",
       "            (c_proj): Conv1D()\n",
       "          )\n",
       "        )\n",
       "        (7): Block(\n",
       "          (ln_1): BertLayerNorm()\n",
       "          (attn): Attention(\n",
       "            (c_attn): Conv1D()\n",
       "            (c_proj): Conv1D()\n",
       "          )\n",
       "          (ln_2): BertLayerNorm()\n",
       "          (mlp): MLP(\n",
       "            (c_fc): Conv1D()\n",
       "            (c_proj): Conv1D()\n",
       "          )\n",
       "        )\n",
       "        (8): Block(\n",
       "          (ln_1): BertLayerNorm()\n",
       "          (attn): Attention(\n",
       "            (c_attn): Conv1D()\n",
       "            (c_proj): Conv1D()\n",
       "          )\n",
       "          (ln_2): BertLayerNorm()\n",
       "          (mlp): MLP(\n",
       "            (c_fc): Conv1D()\n",
       "            (c_proj): Conv1D()\n",
       "          )\n",
       "        )\n",
       "        (9): Block(\n",
       "          (ln_1): BertLayerNorm()\n",
       "          (attn): Attention(\n",
       "            (c_attn): Conv1D()\n",
       "            (c_proj): Conv1D()\n",
       "          )\n",
       "          (ln_2): BertLayerNorm()\n",
       "          (mlp): MLP(\n",
       "            (c_fc): Conv1D()\n",
       "            (c_proj): Conv1D()\n",
       "          )\n",
       "        )\n",
       "        (10): Block(\n",
       "          (ln_1): BertLayerNorm()\n",
       "          (attn): Attention(\n",
       "            (c_attn): Conv1D()\n",
       "            (c_proj): Conv1D()\n",
       "          )\n",
       "          (ln_2): BertLayerNorm()\n",
       "          (mlp): MLP(\n",
       "            (c_fc): Conv1D()\n",
       "            (c_proj): Conv1D()\n",
       "          )\n",
       "        )\n",
       "        (11): Block(\n",
       "          (ln_1): BertLayerNorm()\n",
       "          (attn): Attention(\n",
       "            (c_attn): Conv1D()\n",
       "            (c_proj): Conv1D()\n",
       "          )\n",
       "          (ln_2): BertLayerNorm()\n",
       "          (mlp): MLP(\n",
       "            (c_fc): Conv1D()\n",
       "            (c_proj): Conv1D()\n",
       "          )\n",
       "        )\n",
       "      )\n",
       "      (ln_f): BertLayerNorm()\n",
       "    )\n",
       "    (lm_head): GPT2LMHead(\n",
       "      (decoder): Linear(in_features=768, out_features=50257, bias=False)\n",
       "    )\n",
       "  )\n",
       ")"
      ]
     },
     "execution_count": 19,
     "metadata": {},
     "output_type": "execute_result"
    }
   ],
   "source": [
    "genModel = GenNet()\n",
    "\n",
    "genModel.cuda()\n"
   ]
  },
  {
   "cell_type": "code",
   "execution_count": 4,
   "metadata": {},
   "outputs": [],
   "source": [
    "def top_k_logits(logits, k):\n",
    "    \"\"\"\n",
    "    Masks everything but the k top entries as -infinity (1e10).\n",
    "    Used to mask logits such that e^-infinity -> 0 won't contribute to the\n",
    "    sum of the denominator.\n",
    "    \"\"\"\n",
    "    if k == 0:\n",
    "        return logits\n",
    "    else:\n",
    "        values = torch.topk(logits, k)[0]\n",
    "        batch_mins = values[:, -1].view(-1, 1).expand_as(logits)\n",
    "        return torch.where(logits < batch_mins, torch.ones_like(logits) * -1e10, logits)"
   ]
  },
  {
   "cell_type": "code",
   "execution_count": 5,
   "metadata": {},
   "outputs": [],
   "source": [
    "def sample_sequence(model, length, start_token=None, batch_size=None, context=None, temperature=1, top_k=0, device='cpu', sample=True):\n",
    "    if start_token is None:\n",
    "        assert context is not None, 'Specify exactly one of start_token and context!'\n",
    "        context = torch.tensor(context, device=device, dtype=torch.long).unsqueeze(0).repeat(batch_size, 1)\n",
    "    else:\n",
    "        assert context is None, 'Specify exactly one of start_token and context!'\n",
    "        context = torch.full((batch_size, 1), start_token, device=device, dtype=torch.long)\n",
    "    prev = context\n",
    "    output = context\n",
    "    past = None\n",
    "    for i in trange(length):\n",
    "        outputs= model(prev, past_key_values=past)\n",
    "        logits, past = outputs.logits, outputs.past_key_values\n",
    "        logits = logits[:, -1, :] / temperature\n",
    "        logits = top_k_logits(logits, k=top_k)\n",
    "        log_probs = F.softmax(logits, dim=-1)\n",
    "        if sample:\n",
    "            prev = torch.multinomial(log_probs, num_samples=1)\n",
    "        else:\n",
    "            _, prev = torch.topk(log_probs, k=1, dim=-1)\n",
    "        output = torch.cat((output, prev), dim=1)\n",
    "    return output"
   ]
  },
  {
   "cell_type": "code",
   "execution_count": 6,
   "metadata": {},
   "outputs": [
    {
     "data": {
      "text/plain": [
       "[{'name': 'Level 0',\n",
       "  'instructions': 'The password for the next level is stored in a file called readme located in the home directory. Use this password to log into bandit1 using SSH. Whenever you find a password for a level, use SSH (on port 2220) to log into that level and continue the game.',\n",
       "  'commands': 'ls, cd, cat, file, du, find'}]"
      ]
     },
     "execution_count": 6,
     "metadata": {},
     "output_type": "execute_result"
    }
   ],
   "source": [
    "import json\n",
    "f = open('bandit.json')\n",
    "levels = json.load(f)\n",
    "\n",
    "\n",
    "levels"
   ]
  },
  {
   "cell_type": "code",
   "execution_count": 9,
   "metadata": {},
   "outputs": [
    {
     "name": "stderr",
     "output_type": "stream",
     "text": [
      "100%|██████████| 10/10 [00:00<00:00, 78.78it/s]\n",
      "100%|██████████| 10/10 [00:00<00:00, 82.80it/s]"
     ]
    },
    {
     "name": "stdout",
     "output_type": "stream",
     "text": [
      ".  – Computer systems/hardware with damaged seams twice : <ERROR>\n"
     ]
    },
    {
     "name": "stderr",
     "output_type": "stream",
     "text": [
      "\n",
      "100%|██████████| 10/10 [00:00<00:00, 83.15it/s]"
     ]
    },
    {
     "name": "stdout",
     "output_type": "stream",
     "text": [
      ".  from the Counter-Influence campaign. Overall it : <ERROR>\n"
     ]
    },
    {
     "name": "stderr",
     "output_type": "stream",
     "text": [
      "\n",
      " 20%|██        | 2/10 [00:00<00:00, 12.17it/s]"
     ]
    },
    {
     "name": "stdout",
     "output_type": "stream",
     "text": [
      ". .ae Poor snow villagers caught wooden nuts by their : <ERROR>\n"
     ]
    },
    {
     "name": "stderr",
     "output_type": "stream",
     "text": [
      "100%|██████████| 10/10 [00:00<00:00, 38.53it/s]\n",
      "100%|██████████| 10/10 [00:00<00:00, 85.33it/s]"
     ]
    },
    {
     "name": "stdout",
     "output_type": "stream",
     "text": [
      ". er played national university football at the former vocational university : <ERROR>\n"
     ]
    },
    {
     "name": "stderr",
     "output_type": "stream",
     "text": [
      "\n",
      "100%|██████████| 10/10 [00:00<00:00, 79.18it/s]"
     ]
    },
    {
     "name": "stdout",
     "output_type": "stream",
     "text": [
      ".  Smitnov, Carnegie Mellon Computer Science, Rye : <ERROR>\n"
     ]
    },
    {
     "name": "stderr",
     "output_type": "stream",
     "text": [
      "\n",
      "100%|██████████| 10/10 [00:00<00:00, 82.30it/s]"
     ]
    },
    {
     "name": "stdout",
     "output_type": "stream",
     "text": [
      ".  to adjust the horizontal bimax reading if needed : <ERROR>\n"
     ]
    },
    {
     "name": "stderr",
     "output_type": "stream",
     "text": [
      "\n",
      "100%|██████████| 10/10 [00:00<00:00, 84.39it/s]"
     ]
    },
    {
     "name": "stdout",
     "output_type": "stream",
     "text": [
      ".  underestimate God, or messengers of divine origins. : <ERROR>\n"
     ]
    },
    {
     "name": "stderr",
     "output_type": "stream",
     "text": [
      "\n",
      "100%|██████████| 10/10 [00:00<00:00, 82.29it/s]"
     ]
    },
    {
     "name": "stdout",
     "output_type": "stream",
     "text": [
      ".  are reasonable ways to ensure that the bitcoin users who : <ERROR>\n"
     ]
    },
    {
     "name": "stderr",
     "output_type": "stream",
     "text": [
      "\n",
      "100%|██████████| 10/10 [00:00<00:00, 77.88it/s]"
     ]
    },
    {
     "name": "stdout",
     "output_type": "stream",
     "text": [
      ".  way of looking at trends:\n",
      "\n",
      "Absolute : <ERROR>\n"
     ]
    },
    {
     "name": "stderr",
     "output_type": "stream",
     "text": [
      "\n"
     ]
    },
    {
     "name": "stdout",
     "output_type": "stream",
     "text": [
      ".  for drawing into late small sublinear depths \\(\\Delta : <ERROR>\n"
     ]
    }
   ],
   "source": [
    "device = \"cuda\"\n",
    "genModel = GPT2LMHeadModel.from_pretrained('gpt2')\n",
    "genModel.load_state_dict(torch.load(\"linux-gpt.pt\"))\n",
    "genModel.to(device)\n",
    "cur_level = levels[0]\n",
    "raw_context = \"ls\"\n",
    "# raw_context = cur_level['instructions']\n",
    "env = LinuxEnv(\"bandit.labs.overthewire.org\", \"bandit0\", \"bandit0\", 2220)\n",
    "env.connect()\n",
    "sequence_length = 10\n",
    "for i in range(10):\n",
    "    context_tokens = tokenizer.encode(raw_context)\n",
    "    out = sample_sequence(\n",
    "      model=genModel, length=sequence_length,\n",
    "      context=context_tokens, batch_size=1, device=device\n",
    "    )\n",
    "    out = out[:, len(context_tokens):].tolist()[0]\n",
    "    command = tokenizer.decode(out)\n",
    "    result = env.send(command)\n",
    "    print(f'. {command} : {result}')\n",
    "    # raw_context += f'. {command} : {result}'"
   ]
  }
 ],
 "metadata": {
  "interpreter": {
   "hash": "916dbcbb3f70747c44a77c7bcd40155683ae19c65e1c03b4aa3499c5328201f1"
  },
  "kernelspec": {
   "display_name": "Python 3.8.10 64-bit",
   "language": "python",
   "name": "python3"
  },
  "language_info": {
   "codemirror_mode": {
    "name": "ipython",
    "version": 3
   },
   "file_extension": ".py",
   "mimetype": "text/x-python",
   "name": "python",
   "nbconvert_exporter": "python",
   "pygments_lexer": "ipython3",
   "version": "3.8.10"
  },
  "orig_nbformat": 4
 },
 "nbformat": 4,
 "nbformat_minor": 2
}
